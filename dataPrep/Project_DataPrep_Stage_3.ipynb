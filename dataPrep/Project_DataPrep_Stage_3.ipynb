{
 "cells": [
  {
   "cell_type": "code",
   "execution_count": null,
   "id": "bfe5e35a-b47f-47e6-9812-2f226759807a",
   "metadata": {},
   "outputs": [],
   "source": [
    "#Make Necessary Import\n",
    "import warnings\n",
    "warnings.filterwarnings('ignore')\n",
    "\n",
    "import numpy as np\n",
    "import pandas as pd\n",
    "import seaborn as sns\n",
    "import matplotlib.pyplot as plt\n",
    "%matplotlib inline\n",
    "from sklearn.preprocessing import MinMaxScaler, StandardScaler\n",
    "from imblearn import over_sampling\n",
    "import glob\n",
    "\n",
    "sns.set(rc={'figure.figsize':(16,8)})\n",
    "sns.set_style(\"whitegrid\")\n",
    "sns.color_palette(\"dark\")\n",
    "plt.style.use(\"fivethirtyeight\")"
   ]
  },
  {
   "cell_type": "code",
   "execution_count": null,
   "id": "3e4cfb78-b21d-48e6-a798-15f0f705292f",
   "metadata": {},
   "outputs": [],
   "source": [
    "files = [i for i in glob.glob('/Users/<USERID>/Desktop/Data/2020-2023/*.{}'.format('csv'))]\n",
    "files.remove('/Users/<USERID>/Desktop/Data/2020-2023/JP_youtube_trending_data.csv')\n",
    "files.remove('/Users/<USERID>/Desktop/Data/2020-2023/KR_youtube_trending_data.csv')\n",
    "files.remove('/Users/<USERID>/Desktop/Data/2020-2023/MX_youtube_trending_data.csv')\n",
    "files.remove('/Users/<USERID>/Desktop/Data/2020-2023/RU_youtube_trending_data.csv')\n",
    "sorted(files)\n",
    "\n",
    "others = ['/Users/<USERID>/Desktop/Data/2020-2023/JP_youtube_trending_data.csv', \n",
    "          '/Users/<USERID>/Desktop/Data/2020-2023/KR_youtube_trending_data.csv',\n",
    "          '/Users/<USERID>/Desktop/Data/2020-2023/MX_youtube_trending_data.csv',\n",
    "          '/Users/<USERID>/Desktop/Data/2020-2023/RU_youtube_trending_data.csv']\n",
    "\n",
    "dfs = list()\n",
    "for csv in files:\n",
    "    df = pd.read_csv(csv, index_col='video_id')\n",
    "    df['country'] = csv[21:23]\n",
    "    dfs.append(df)\n",
    "\n",
    "for csv in others:\n",
    "    df = pd.read_csv(csv, index_col='video_id', encoding=\"ISO-8859-1\")\n",
    "    df['country'] = csv[21:23]\n",
    "    dfs.append(df)\n",
    "\n",
    "my_df = pd.concat(dfs)\n",
    "\n",
    "my_df['trending_date']=pd.to_datetime(my_df['trending_date'],format='%Y-%m-%dT%H:%M:%SZ')\n",
    "my_df['publishedAt']=pd.to_datetime(my_df['publishedAt'],format='%Y-%m-%dT%H:%M:%SZ')\n",
    "\n",
    "my_df = my_df[my_df['trending_date'].notnull()]\n",
    "my_df = my_df[my_df['publishedAt'].notnull()]\n",
    "\n",
    "my_df = my_df.dropna(how='any',inplace=False, axis = 0)\n",
    "\n",
    "my_df.insert(4, 'publish_date', my_df['publishedAt'].dt.date)\n",
    "my_df['publishedAt'] = my_df['publishedAt'].dt.time\n",
    "my_df=my_df.rename(columns = {'publishedAt':'publish_time'})\n",
    "my_df=my_df.rename(columns = {'channelTitle':'channel_title'})\n",
    "\n",
    "my_df_full = my_df.reset_index().sort_values('trending_date').set_index('video_id')\n",
    "my_df = my_df.reset_index().sort_values('trending_date').drop_duplicates('video_id',keep='last').set_index('video_id')\n",
    "\n",
    "my_df['desc_len']  = my_df['description'].str.len()\n",
    "my_df['len_title']  = my_df['title'].str.len()\n",
    "\n",
    "my_df['tags_list'] = my_df['tags'].str.split('|')\n",
    "my_df['No_tags'] =my_df['tags_list'].apply(len)\n",
    "my_df = my_df.drop(columns = 'tags_list')\n",
    "my_df=my_df.rename(columns = {'categoryId':'category_id'})\n",
    "data=my_df.rename(columns = {'view_count':'views'})"
   ]
  }
 ],
 "metadata": {
  "kernelspec": {
   "display_name": "Python 3 (ipykernel)",
   "language": "python",
   "name": "python3"
  },
  "language_info": {
   "codemirror_mode": {
    "name": "ipython",
    "version": 3
   },
   "file_extension": ".py",
   "mimetype": "text/x-python",
   "name": "python",
   "nbconvert_exporter": "python",
   "pygments_lexer": "ipython3",
   "version": "3.7.9"
  }
 },
 "nbformat": 4,
 "nbformat_minor": 5
}
