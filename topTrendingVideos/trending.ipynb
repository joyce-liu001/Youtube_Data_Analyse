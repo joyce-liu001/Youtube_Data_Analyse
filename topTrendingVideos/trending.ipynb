{
 "cells": [
  {
   "cell_type": "markdown",
   "metadata": {},
   "source": [
    "What were the top 10 trending titles for this time period? For each year?"
   ]
  },
  {
   "cell_type": "markdown",
   "metadata": {},
   "source": [
    "1. load data"
   ]
  },
  {
   "cell_type": "code",
   "execution_count": 3,
   "metadata": {},
   "outputs": [],
   "source": [
    "import numpy as np # linear algebra\n",
    "import pandas as pd # data processing, CSV file I/O (e.g. pd.read_csv)\n",
    "import json\n",
    "import matplotlib.pyplot as plt\n",
    "from tabulate import tabulate\n",
    "import seaborn as sns\n",
    "from collections import Counter\n",
    "import plotly.graph_objects as go\n",
    "import plotly.express as px\n",
    "import calmap\n",
    "import os\n",
    "import csv"
   ]
  },
  {
   "cell_type": "code",
   "execution_count": 4,
   "metadata": {},
   "outputs": [],
   "source": [
    "def read_files_by_country(dir_name, country_code):\n",
    "    try:\n",
    "        json_file = os.path.join(dir_name, f\"{country_code}_category_id.json\")\n",
    "        csv_file = os.path.join(dir_name, f\"{country_code}_youtube_trending_data.csv\")\n",
    "\n",
    "        with open(json_file, 'r', encoding='utf-8') as json_data:\n",
    "            json_content = json.load(json_data)\n",
    "            # print(f\"Contents of {json_file}:\")\n",
    "            # print(json_content) \n",
    "\n",
    "        # for japanese\n",
    "        # videos = pd.read_csv(csv_file, encoding=\"latin\")\n",
    "        videos = pd.read_csv(csv_file)\n",
    "        # print(videos)\n",
    "\n",
    "    except FileNotFoundError:\n",
    "        print(f\"Files for {country_code} not found.\")\n",
    "    \n",
    "    return json_content, videos\n",
    "\n",
    "country_code = 'RU'\n",
    "json_content, videos = read_files_by_country('/Users/{UserName}/Desktop/Data/archive1718', country_code) "
   ]
  },
  {
   "cell_type": "code",
   "execution_count": 5,
   "metadata": {},
   "outputs": [],
   "source": [
    "videos['description'] = videos['description'].apply(lambda x: '' if pd.isnull(x)  else x)\n",
    "\n",
    "##converting dates and times and creating a new column for publish time\n",
    "\n",
    "videos['publish_date'] = pd.to_datetime(videos['publish_time'].str[0:10])\n",
    "videos['publish_time'] = pd.to_datetime(videos['publish_time'].str[11:19], format='%H:%M:%S')\n",
    "videos['trending_date'] = pd.to_datetime(videos['trending_date'],format='%y.%d.%m')\n",
    "\n",
    "##creating new column which has the time until the video begins to trend\n",
    "\n",
    "json_df = pd.DataFrame(json_content['items'])\n",
    "# Convert 'id' column to int64\n",
    "json_df['id'] = json_df['id'].astype('int64')\n",
    "\n",
    "\n",
    "# Extract 'title' from 'snippet' and assign it a name\n",
    "json_df['category_title'] = json_df['snippet'].apply(lambda x: x['title'])\n",
    "\n",
    "# Merge the DataFrames with the 'title' column\n",
    "videos = videos.merge(json_df[['id', 'category_title']], left_on='category_id', right_on='id')\n",
    "\n",
    "# Drop the 'id' column from the merged DataFrame\n",
    "videos = videos.drop(columns=['id'])\n",
    "\n",
    "trending_repeat = videos.groupby(['video_id'])['category_title'].value_counts().reset_index(name='Trending Days')\n",
    "# trending_repeat.head()\n",
    "\n",
    "repeat_all = trending_repeat.pivot_table(index='Trending Days', columns='category_title', values='video_id', aggfunc='count').fillna(0)\n",
    "# repeat_all\n",
    "\n",
    "repeat_all_percentage = repeat_all.divide(repeat_all.sum(axis=1), axis=0) * 100\n",
    "# repeat_all_percentage.head()"
   ]
  },
  {
   "cell_type": "markdown",
   "metadata": {},
   "source": [
    "Sorting by numbers of trending days:"
   ]
  },
  {
   "cell_type": "code",
   "execution_count": 6,
   "metadata": {},
   "outputs": [
    {
     "data": {
      "text/plain": [
       "Index(['video_id', 'trending_date', 'title', 'channel_title', 'category_id',\n",
       "       'publish_time', 'tags', 'views', 'likes', 'dislikes', 'comment_count',\n",
       "       'thumbnail_link', 'comments_disabled', 'ratings_disabled',\n",
       "       'video_error_or_removed', 'description', 'publish_date',\n",
       "       'category_title', 'days_trending', 'trending_year', 'country'],\n",
       "      dtype='object')"
      ]
     },
     "execution_count": 6,
     "metadata": {},
     "output_type": "execute_result"
    }
   ],
   "source": [
    "# calculate the number of trending days for each video\n",
    "import pandas as pd\n",
    "sort_trending = videos.groupby('video_id').size().reset_index(name='days_trending')\n",
    "# drop duplicates\n",
    "video_noduplicates = videos.drop_duplicates(subset='video_id', keep='first')\n",
    "merge_videos = pd.merge(video_noduplicates, sort_trending, on='video_id')\n",
    "# merge_videos.head()\n",
    "# specify trending year\n",
    "merge_videos['trending_year'] = merge_videos['trending_date'].dt.year\n",
    "merge_videos['country'] = country_code\n",
    "# sort the top 10 trending videos by trending days\n",
    "top_trending = merge_videos.sort_values(by='days_trending', ascending=False).head(10)\n",
    "top_trending.head()\n",
    "top_trending.columns"
   ]
  },
  {
   "cell_type": "code",
   "execution_count": 7,
   "metadata": {},
   "outputs": [],
   "source": [
    "# shift the columns\n",
    "new_order = ['country', 'trending_year', 'days_trending', 'title', 'category_title', \\\n",
    "        'video_id', 'publish_date', 'trending_date', 'channel_title', 'category_id', \\\n",
    "       'publish_time', 'tags', 'views', 'likes', 'dislikes', 'comment_count',\\\n",
    "       'thumbnail_link', 'comments_disabled', 'ratings_disabled',\\\n",
    "       'video_error_or_removed', 'description']\n",
    "top_trending = top_trending[new_order]\n",
    "\n",
    "top_trending_short = top_trending[['country', 'trending_year', 'title', 'channel_title', 'days_trending']]\n",
    "top_trending_short\n",
    "# write top_trending to a csv file in append format\n",
    "top_trending.to_csv('top_trending.csv', mode='a', index=False, header=True)"
   ]
  },
  {
   "cell_type": "markdown",
   "metadata": {},
   "source": [
    "Conclusion: Sorting by numbers of trending days, top 10 trending videos are mostly from category 'Music' and 'Entertainment'."
   ]
  },
  {
   "cell_type": "markdown",
   "metadata": {},
   "source": [
    "Sorting by views:"
   ]
  },
  {
   "cell_type": "code",
   "execution_count": 8,
   "metadata": {},
   "outputs": [],
   "source": [
    "top_views = merge_videos.sort_values(by='views', ascending=False).head(10)\n",
    "new_order_views = ['country', 'views', 'trending_year', 'title', 'category_title', \\\n",
    "        'video_id', 'publish_date', 'trending_date', 'days_trending', 'channel_title', 'category_id', \\\n",
    "       'publish_time', 'tags', 'likes', 'dislikes', 'comment_count',\\\n",
    "       'thumbnail_link', 'comments_disabled', 'ratings_disabled',\\\n",
    "       'video_error_or_removed', 'description']\n",
    "top_views = top_views[new_order_views]\n",
    "\n",
    "top_views.to_csv('top_views.csv', mode='a', index=False, header=True)"
   ]
  },
  {
   "cell_type": "markdown",
   "metadata": {},
   "source": [
    "Conclusion: Sorting by numbers of views, top 10 trending videos are mostly from category 'Music' and 'Entertainment' as well."
   ]
  },
  {
   "cell_type": "markdown",
   "metadata": {},
   "source": [
    "Analyse the trending video by year:"
   ]
  },
  {
   "cell_type": "code",
   "execution_count": 9,
   "metadata": {},
   "outputs": [],
   "source": [
    "top2017 = merge_videos[(merge_videos['trending_year'] == 2017)].sort_values(by='views', ascending=False).head(10)\n",
    "top2018 = merge_videos[(merge_videos['trending_year'] == 2018)].sort_values(by='views', ascending=False).head(10)\n",
    "\n",
    "new_order_views = ['country', 'views', 'trending_year', 'title', 'category_title', \\\n",
    "        'video_id', 'publish_date', 'trending_date', 'days_trending', 'channel_title', 'category_id', \\\n",
    "       'publish_time', 'tags', 'likes', 'dislikes', 'comment_count',\\\n",
    "       'thumbnail_link', 'comments_disabled', 'ratings_disabled',\\\n",
    "       'video_error_or_removed', 'description']\n",
    "top2017 = top2017[new_order_views]\n",
    "top2018 = top2018[new_order_views]\n",
    "# write to csv\n",
    "top2017.to_csv('top2017.csv', mode='a', index=False, header=True)\n",
    "top2018.to_csv('top2018.csv', mode='a', index=False, header=True)"
   ]
  },
  {
   "cell_type": "markdown",
   "metadata": {},
   "source": [
    "What were the top 10 trending channels? (more trending videos the channel has, more popular it is)"
   ]
  },
  {
   "cell_type": "code",
   "execution_count": 10,
   "metadata": {},
   "outputs": [
    {
     "data": {
      "text/html": [
       "<div>\n",
       "<style scoped>\n",
       "    .dataframe tbody tr th:only-of-type {\n",
       "        vertical-align: middle;\n",
       "    }\n",
       "\n",
       "    .dataframe tbody tr th {\n",
       "        vertical-align: top;\n",
       "    }\n",
       "\n",
       "    .dataframe thead th {\n",
       "        text-align: right;\n",
       "    }\n",
       "</style>\n",
       "<table border=\"1\" class=\"dataframe\">\n",
       "  <thead>\n",
       "    <tr style=\"text-align: right;\">\n",
       "      <th></th>\n",
       "      <th>channel_title</th>\n",
       "      <th>number of videos</th>\n",
       "    </tr>\n",
       "  </thead>\n",
       "  <tbody>\n",
       "    <tr>\n",
       "      <th>436</th>\n",
       "      <td>DHCãã¬ã</td>\n",
       "      <td>82</td>\n",
       "    </tr>\n",
       "    <tr>\n",
       "      <th>4486</th>\n",
       "      <td>é£ãããã§ãããã</td>\n",
       "      <td>79</td>\n",
       "    </tr>\n",
       "    <tr>\n",
       "      <th>1060</th>\n",
       "      <td>MAXé´æ¨ TV</td>\n",
       "      <td>64</td>\n",
       "    </tr>\n",
       "    <tr>\n",
       "      <th>4487</th>\n",
       "      <td>é£ãããé£¯</td>\n",
       "      <td>59</td>\n",
       "    </tr>\n",
       "    <tr>\n",
       "      <th>1676</th>\n",
       "      <td>TV Derana</td>\n",
       "      <td>59</td>\n",
       "    </tr>\n",
       "    <tr>\n",
       "      <th>...</th>\n",
       "      <td>...</td>\n",
       "      <td>...</td>\n",
       "    </tr>\n",
       "    <tr>\n",
       "      <th>1927</th>\n",
       "      <td>[Namikaze Rei]æ³¢é¢¨ é¶</td>\n",
       "      <td>1</td>\n",
       "    </tr>\n",
       "    <tr>\n",
       "      <th>1929</th>\n",
       "      <td>[ã¨ã³ã¼ãº]Echoes</td>\n",
       "      <td>1</td>\n",
       "    </tr>\n",
       "    <tr>\n",
       "      <th>1930</th>\n",
       "      <td>[ã´ãªã©ã¤ã] è¿«çã´ãªã©</td>\n",
       "      <td>1</td>\n",
       "    </tr>\n",
       "    <tr>\n",
       "      <th>1931</th>\n",
       "      <td>_ìë¼ì ìë ì¤í¸ë¦¬ë° ê³ì </td>\n",
       "      <td>1</td>\n",
       "    </tr>\n",
       "    <tr>\n",
       "      <th>2305</th>\n",
       "      <td>nana wawa</td>\n",
       "      <td>1</td>\n",
       "    </tr>\n",
       "  </tbody>\n",
       "</table>\n",
       "<p>4610 rows × 2 columns</p>\n",
       "</div>"
      ],
      "text/plain": [
       "                              channel_title  number of videos\n",
       "436                            DHCãã¬ã                82\n",
       "4486            é£ãããã§ãããã                79\n",
       "1060                           MAXé´æ¨ TV                64\n",
       "4487                        é£ãããé£¯                59\n",
       "1676                              TV Derana                59\n",
       "...                                     ...               ...\n",
       "1927               [Namikaze Rei]æ³¢é¢¨ é¶                 1\n",
       "1929                   [ã¨ã³ã¼ãº]Echoes                 1\n",
       "1930      [ã´ãªã©ã¤ã] è¿«çã´ãªã©                 1\n",
       "1931  _ìë¼ì ìë ì¤í¸ë¦¬ë° ê³ì                  1\n",
       "2305                              nana wawa                 1\n",
       "\n",
       "[4610 rows x 2 columns]"
      ]
     },
     "execution_count": 10,
     "metadata": {},
     "output_type": "execute_result"
    }
   ],
   "source": [
    "# calculate video numbers of each channel\n",
    "top_category = merge_videos.groupby(['channel_title']).size().reset_index(name='number of videos').sort_values(by=['number of videos'], ascending=False)\n",
    "top_category"
   ]
  },
  {
   "cell_type": "code",
   "execution_count": 11,
   "metadata": {},
   "outputs": [],
   "source": [
    "channel_category = merge_videos.groupby('channel_title')['category_title'].unique().reset_index()\n",
    "channel_category['category_title'] = channel_category['category_title'].str.join(', ')\n",
    "result = top_category.merge(channel_category, how='left', on='channel_title').head(10)\n",
    "# write result to csv in append format\n",
    "result['country'] = country_code\n",
    "\n",
    "channel_order = ['country', 'channel_title', 'number of videos', 'category_title']\n",
    "result = result[channel_order]\n",
    "result.to_csv('top_channel.csv', mode='a', index=False, header=True)\n",
    "# result.columns"
   ]
  },
  {
   "cell_type": "code",
   "execution_count": null,
   "metadata": {},
   "outputs": [],
   "source": []
  }
 ],
 "metadata": {
  "kernelspec": {
   "display_name": "base",
   "language": "python",
   "name": "python3"
  },
  "language_info": {
   "codemirror_mode": {
    "name": "ipython",
    "version": 3
   },
   "file_extension": ".py",
   "mimetype": "text/x-python",
   "name": "python",
   "nbconvert_exporter": "python",
   "pygments_lexer": "ipython3",
   "version": "3.8.3"
  }
 },
 "nbformat": 4,
 "nbformat_minor": 2
}
